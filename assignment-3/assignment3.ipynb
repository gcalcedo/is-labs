{
 "cells": [
  {
   "attachments": {},
   "cell_type": "markdown",
   "metadata": {},
   "source": [
    "# Loading data"
   ]
  },
  {
   "cell_type": "code",
   "execution_count": 1,
   "metadata": {},
   "outputs": [],
   "source": [
    "import csv\n",
    "from collections import defaultdict\n",
    "\n",
    "with open('myDataFile.csv', 'r') as csvfile:\n",
    "    csvreader = csv.reader(csvfile)\n",
    "\n",
    "    items = next(csvreader)\n",
    "    transactions = []\n",
    "\n",
    "    for row in csvreader:\n",
    "        row_items = []\n",
    "        for i, value in enumerate(row):\n",
    "            if value == 't':\n",
    "                row_items.append(items[i])\n",
    "        transactions.append(sorted(row_items))\n",
    "\n",
    "N_ITEMS = len(items)\n",
    "N_TRANSACTIONS = len(transactions)"
   ]
  },
  {
   "attachments": {},
   "cell_type": "markdown",
   "metadata": {},
   "source": [
    "# Parameters"
   ]
  },
  {
   "cell_type": "code",
   "execution_count": 2,
   "metadata": {},
   "outputs": [],
   "source": [
    "MIN_SUPPORT = 0.005\n",
    "MIN_CONFIDENCE = 0.6"
   ]
  },
  {
   "attachments": {},
   "cell_type": "markdown",
   "metadata": {},
   "source": [
    "# Apriori algorithm"
   ]
  },
  {
   "cell_type": "code",
   "execution_count": 3,
   "metadata": {},
   "outputs": [],
   "source": [
    "L = []\n",
    "supports = {}\n",
    "\n",
    "histogram = defaultdict(int)\n",
    "for t in transactions:\n",
    "    for item in t:\n",
    "        histogram[item] += 1\n",
    "\n",
    "new_layer = []\n",
    "for item, count in histogram.items():\n",
    "    if (count / N_TRANSACTIONS) >= MIN_SUPPORT:\n",
    "        new_layer.append([item])\n",
    "        supports[(item,)] = count\n",
    "\n",
    "L.append(new_layer)\n",
    "\n",
    "k = 0\n",
    "while len(L[k]) != 0:\n",
    "    k += 1\n",
    "\n",
    "    candidates = []\n",
    "    for set1 in L[k-1]:\n",
    "        for set2 in L[k-1]:\n",
    "            if set1[:-1] != set2[:-1] or set1[-1] >= set2[-1]:\n",
    "                continue\n",
    "\n",
    "            candidate = set1 + [set2[-1]]\n",
    "            include = True\n",
    "\n",
    "            for i in range(len(candidate)):\n",
    "                subset = candidate[:i] + candidate[i+1:]\n",
    "                if subset not in L[k - 1]:\n",
    "                    include = False\n",
    "                    break\n",
    "\n",
    "            if include:\n",
    "                candidates.append(candidate)\n",
    "\n",
    "    histogram = defaultdict(int)\n",
    "    for t in transactions:\n",
    "        for c in candidates:\n",
    "            if set(c).issubset(set(t)):\n",
    "                histogram[tuple(c)] += 1\n",
    "\n",
    "    new_layer = []\n",
    "    for itemset, count in histogram.items():\n",
    "        if (count / N_TRANSACTIONS) >= MIN_SUPPORT:\n",
    "            new_layer.append(list(itemset))\n",
    "            supports[itemset] = count\n",
    "\n",
    "    L.append(new_layer)"
   ]
  },
  {
   "cell_type": "code",
   "execution_count": 4,
   "metadata": {},
   "outputs": [
    {
     "name": "stdout",
     "output_type": "stream",
     "text": [
      "L(1): 120\n",
      "L(2): 605\n",
      "L(3): 264\n",
      "L(4): 12\n",
      "L(5): 0\n"
     ]
    }
   ],
   "source": [
    "for k, layer in enumerate(L):\n",
    "    print(f'L({k+1}):', len(layer))"
   ]
  },
  {
   "attachments": {},
   "cell_type": "markdown",
   "metadata": {},
   "source": [
    "# Rule generation"
   ]
  },
  {
   "cell_type": "code",
   "execution_count": 6,
   "metadata": {},
   "outputs": [
    {
     "name": "stdout",
     "output_type": "stream",
     "text": [
      "<generator object <genexpr> at 0x119b78890> => {'butter', 'tropical_fruit', 'whole_milk'} (confidence=0.6224489795918368)\n",
      "<generator object <genexpr> at 0x119b78cf0> => {'bottled_water', 'butter', 'whole_milk'} (confidence=0.6022727272727273)\n",
      "<generator object <genexpr> at 0x119b78cf0> => {'curd', 'tropical_fruit', 'whole_milk'} (confidence=0.6336633663366337)\n",
      "<generator object <genexpr> at 0x119b78890> => {'tropical_fruit', 'domestic_eggs', 'whole_milk'} (confidence=0.6071428571428571)\n",
      "<generator object <genexpr> at 0x119b78d60> => {'domestic_eggs', 'margarine', 'whole_milk'} (confidence=0.6219512195121951)\n",
      "<generator object <genexpr> at 0x119b78d60> => {'pip_fruit', 'domestic_eggs', 'whole_milk'} (confidence=0.6235294117647059)\n",
      "<generator object <genexpr> at 0x119b78d60> => {'butter', 'root_vegetables', 'whole_milk'} (confidence=0.6377952755905512)\n",
      "<generator object <genexpr> at 0x119b78890> => {'butter', 'whipped_sour_cream', 'whole_milk'} (confidence=0.66)\n",
      "<generator object <genexpr> at 0x119b78d60> => {'whipped_sour_cream', 'pip_fruit', 'whole_milk'} (confidence=0.6483516483516484)\n",
      "<generator object <genexpr> at 0x119b78970> => {'butter', 'domestic_eggs', 'whole_milk'} (confidence=0.6210526315789474)\n",
      "<generator object <genexpr> at 0x119b78d60> => {'root_vegetables', 'whole_milk', 'whipped_sour_cream', 'other_vegetables'} (confidence=0.6071428571428571)\n",
      "<generator object <genexpr> at 0x119b78970> => {'root_vegetables', 'whole_milk', 'pip_fruit', 'other_vegetables'} (confidence=0.675)\n"
     ]
    }
   ],
   "source": [
    "for k in range(1, len(L)):\n",
    "    for itemset in L[k]:\n",
    "        x = set(itemset)\n",
    "\n",
    "        for i in range(1, 2**k):\n",
    "            s = (itemset[j] for j in range(k) if (i & (1 << j)))\n",
    "            confidence = supports[tuple(itemset)] / supports[tuple(s)]\n",
    "\n",
    "            if confidence >= MIN_CONFIDENCE:\n",
    "                print(s, '=>', x - set(s), f'(confidence={confidence})')"
   ]
  }
 ],
 "metadata": {
  "kernelspec": {
   "display_name": "Python 3",
   "language": "python",
   "name": "python3"
  },
  "language_info": {
   "codemirror_mode": {
    "name": "ipython",
    "version": 3
   },
   "file_extension": ".py",
   "mimetype": "text/x-python",
   "name": "python",
   "nbconvert_exporter": "python",
   "pygments_lexer": "ipython3",
   "version": "3.9.6"
  },
  "orig_nbformat": 4,
  "vscode": {
   "interpreter": {
    "hash": "31f2aee4e71d21fbe5cf8b01ff0e069b9275f58929596ceb00d14d90e3e16cd6"
   }
  }
 },
 "nbformat": 4,
 "nbformat_minor": 2
}
