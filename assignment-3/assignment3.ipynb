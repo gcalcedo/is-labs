{
 "cells": [
  {
   "attachments": {},
   "cell_type": "markdown",
   "metadata": {},
   "source": [
    "# Loading data"
   ]
  },
  {
   "cell_type": "code",
   "execution_count": 86,
   "metadata": {},
   "outputs": [
    {
     "name": "stdout",
     "output_type": "stream",
     "text": [
      "Transactions: 9835\n"
     ]
    }
   ],
   "source": [
    "import csv, collections, itertools\n",
    "\n",
    "with open('myDataFile.csv', 'r') as csvfile:\n",
    "    csvreader = csv.reader(csvfile)\n",
    "\n",
    "    items = next(csvreader)\n",
    "    transactions = [\n",
    "        set(items[i] for i, v in enumerate(row) if v == 't')\n",
    "        for row in csvreader\n",
    "    ]\n",
    "\n",
    "N_TRANSACTIONS = len(transactions)\n",
    "\n",
    "print('Transactions:', N_TRANSACTIONS)"
   ]
  },
  {
   "attachments": {},
   "cell_type": "markdown",
   "metadata": {},
   "source": [
    "# Parameters"
   ]
  },
  {
   "cell_type": "code",
   "execution_count": 87,
   "metadata": {},
   "outputs": [],
   "source": [
    "MIN_SUPPORT = 0.005\n",
    "MIN_CONFIDENCE = 0.6"
   ]
  },
  {
   "attachments": {},
   "cell_type": "markdown",
   "metadata": {},
   "source": [
    "# Apriori algorithm"
   ]
  },
  {
   "cell_type": "code",
   "execution_count": 88,
   "metadata": {},
   "outputs": [],
   "source": [
    "L = []\n",
    "supports = {}\n",
    "\n",
    "histogram = collections.defaultdict(int)\n",
    "for transaction in transactions:\n",
    "    for item in transaction:\n",
    "        histogram[(item,)] += 1\n",
    "\n",
    "layer_1 = set()\n",
    "for itemset, count in histogram.items():\n",
    "    support = count / N_TRANSACTIONS\n",
    "    if support >= MIN_SUPPORT:\n",
    "        layer_1.add(itemset)\n",
    "        supports[itemset] = support\n",
    "\n",
    "L.append(layer_1)"
   ]
  },
  {
   "cell_type": "code",
   "execution_count": 89,
   "metadata": {},
   "outputs": [],
   "source": [
    "k = 0\n",
    "while len(L[k]) != 0:\n",
    "    k += 1\n",
    "\n",
    "    candidates = []\n",
    "    for itemset1 in L[k-1]:\n",
    "        for itemset2 in L[k-1]:\n",
    "            if itemset1[:-1] != itemset2[:-1] or itemset1[-1] >= itemset2[-1]:\n",
    "                continue\n",
    "\n",
    "            candidate = itemset1 + (itemset2[-1],)\n",
    "            include = True\n",
    "\n",
    "            for subset in itertools.combinations(candidate, k):\n",
    "                if subset not in L[k-1]:\n",
    "                    include = False\n",
    "                    break\n",
    "\n",
    "            if include:\n",
    "                candidates.append(candidate)\n",
    "\n",
    "    histogram = collections.defaultdict(int)\n",
    "    for transaction in transactions:\n",
    "        for candidate in candidates:\n",
    "            if set(candidate).issubset(transaction):\n",
    "                histogram[candidate] += 1\n",
    "\n",
    "    new_layer = set()\n",
    "    for itemset, count in histogram.items():\n",
    "        support = count / N_TRANSACTIONS\n",
    "        if support >= MIN_SUPPORT:\n",
    "            new_layer.add(itemset)\n",
    "            supports[itemset] = support\n",
    "\n",
    "    L.append(new_layer)"
   ]
  },
  {
   "cell_type": "code",
   "execution_count": 90,
   "metadata": {},
   "outputs": [
    {
     "name": "stdout",
     "output_type": "stream",
     "text": [
      "L(1): 120\n",
      "L(2): 605\n",
      "L(3): 264\n",
      "L(4): 12\n",
      "L(5): 0\n"
     ]
    }
   ],
   "source": [
    "for k, layer in enumerate(L):\n",
    "    print(f'L({k+1}):', len(layer))"
   ]
  },
  {
   "attachments": {},
   "cell_type": "markdown",
   "metadata": {},
   "source": [
    "# Rule generation"
   ]
  },
  {
   "cell_type": "code",
   "execution_count": 91,
   "metadata": {},
   "outputs": [
    {
     "name": "stdout",
     "output_type": "stream",
     "text": [
      "Rules: 22\n",
      "('fruit_vegetable_juice', 'other_vegetables', 'yogurt') => frozenset({'whole_milk'}) (confidence=0.617)\n",
      "('butter', 'root_vegetables') => frozenset({'whole_milk'}) (confidence=0.638)\n",
      "('butter', 'yogurt') => frozenset({'whole_milk'}) (confidence=0.639)\n",
      "('domestic_eggs', 'tropical_fruit') => frozenset({'whole_milk'}) (confidence=0.607)\n",
      "('other_vegetables', 'root_vegetables', 'yogurt') => frozenset({'whole_milk'}) (confidence=0.606)\n",
      "('other_vegetables', 'root_vegetables', 'whipped_sour_cream') => frozenset({'whole_milk'}) (confidence=0.607)\n",
      "('butter', 'domestic_eggs') => frozenset({'whole_milk'}) (confidence=0.621)\n",
      "('butter', 'tropical_fruit') => frozenset({'whole_milk'}) (confidence=0.622)\n",
      "('domestic_eggs', 'pip_fruit') => frozenset({'whole_milk'}) (confidence=0.624)\n",
      "('pip_fruit', 'root_vegetables', 'whole_milk') => frozenset({'other_vegetables'}) (confidence=0.614)\n",
      "('other_vegetables', 'tropical_fruit', 'yogurt') => frozenset({'whole_milk'}) (confidence=0.620)\n",
      "('butter', 'whipped_sour_cream') => frozenset({'whole_milk'}) (confidence=0.660)\n",
      "('other_vegetables', 'pip_fruit', 'yogurt') => frozenset({'whole_milk'}) (confidence=0.625)\n",
      "('pip_fruit', 'whipped_sour_cream') => frozenset({'whole_milk'}) (confidence=0.648)\n",
      "('root_vegetables', 'tropical_fruit', 'yogurt') => frozenset({'whole_milk'}) (confidence=0.700)\n",
      "('curd', 'tropical_fruit') => frozenset({'whole_milk'}) (confidence=0.634)\n",
      "('onions', 'root_vegetables') => frozenset({'other_vegetables'}) (confidence=0.602)\n",
      "('other_vegetables', 'pip_fruit', 'root_vegetables') => frozenset({'whole_milk'}) (confidence=0.675)\n",
      "('citrus_fruit', 'root_vegetables', 'whole_milk') => frozenset({'other_vegetables'}) (confidence=0.633)\n",
      "('domestic_eggs', 'margarine') => frozenset({'whole_milk'}) (confidence=0.622)\n",
      "('pip_fruit', 'whipped_sour_cream') => frozenset({'other_vegetables'}) (confidence=0.604)\n",
      "('bottled_water', 'butter') => frozenset({'whole_milk'}) (confidence=0.602)\n"
     ]
    }
   ],
   "source": [
    "rules = set()\n",
    "\n",
    "def subsets(size, itemset):\n",
    "    if size == 0:\n",
    "        return\n",
    "\n",
    "    for subset in itertools.combinations(itemset, size):\n",
    "        confidence = supports[itemset] / supports[subset]\n",
    "\n",
    "        if confidence >= MIN_CONFIDENCE:\n",
    "            rules.add((subset, '=>', frozenset(itemset) - frozenset(subset), f'(confidence={confidence:.3f})'))\n",
    "\n",
    "            subsets(size - 1, subset)\n",
    "\n",
    "for k, layer in zip(range(len(L), -1, -1), reversed(L)):\n",
    "    for itemset in layer:\n",
    "        subsets(k - 1, itemset)\n",
    "\n",
    "print('Rules:', len(rules))\n",
    "for rule in rules:\n",
    "    print(*rule)"
   ]
  }
 ],
 "metadata": {
  "kernelspec": {
   "display_name": "venv",
   "language": "python",
   "name": "python3"
  },
  "language_info": {
   "codemirror_mode": {
    "name": "ipython",
    "version": 3
   },
   "file_extension": ".py",
   "mimetype": "text/x-python",
   "name": "python",
   "nbconvert_exporter": "python",
   "pygments_lexer": "ipython3",
   "version": "3.10.8"
  },
  "orig_nbformat": 4,
  "vscode": {
   "interpreter": {
    "hash": "dda87f35da3fecf63c41322c1276d12831ff0770b19c6593ce47378c2e402910"
   }
  }
 },
 "nbformat": 4,
 "nbformat_minor": 2
}
